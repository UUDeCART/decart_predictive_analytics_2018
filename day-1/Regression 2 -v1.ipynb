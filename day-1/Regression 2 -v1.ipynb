{
 "cells": [
  {
   "cell_type": "code",
   "execution_count": 143,
   "metadata": {},
   "outputs": [],
   "source": [
    "# The following allows multiple outputs in a single output cell.\n",
    "from IPython.core.interactiveshell import InteractiveShell\n",
    "InteractiveShell.ast_node_interactivity = \"all\""
   ]
  },
  {
   "cell_type": "markdown",
   "metadata": {},
   "source": [
    "Here we move on from univariate multiple linear regression models to touch briefly on models for dependent variables that are \"limited,\" that cannot take on all possible values on $R$. That is, Y isn't continuous.  Y variables of this type include categorical variables, either ordered or unordered, and counts.  \n",
    "\n",
    "Then, we consider _locally weighted regression_, and after that, Bayesian regression modeling."
   ]
  },
  {
   "cell_type": "markdown",
   "metadata": {},
   "source": [
    "### A Digression on Measurement"
   ]
  },
  {
   "cell_type": "markdown",
   "metadata": {},
   "source": [
    "Reflect back a minute on the previous regression example that was about inpatient satisfaction.  We assumed that the rating scale data are equal interval, continuous measures.  Certainly the _numerical_ difference, say, between ratings responses of 4 and 5 is the same as that for 7 and 8.\n",
    "\n",
    "But what if such differences between between two numeric responses on these scales didn't always represent equal _psychological_ intervals, equal differences in perception or affect? What if the numbers are just labels for categories that are ordered, like ranks of experiences?\n",
    "\n",
    "A measurement taxonomy widely adopted in social science measurement is the [_Levels of Measurement_](https://en.wikipedia.org/wiki/Level_of_measurement) classification described by S.S. Stevens.  Stevens defined four types of measurement scales in terms of their properties and the kinds of mathematical operations that are appropriate for use on data on them.  The four types are:  \n",
    "\n",
    "* nominal - unordered categories, measures are classifications or memberships\n",
    "* ordinal - ordered categories e.g. comparisons of rankings\n",
    "* interval - metric differences, math operations not requiring an absolute origin, e.g. addition, subtraction\n",
    "* ratio - magnitudes and metric quantities, operations accommodating absolute measurement scale origins  \n",
    "\n",
    "What can be assumed about the level of measurement of psychological scales has implications for how it's best to model it or to statistically describe it.  It may make sense to average household incomes, but it doesn't make sense to do so with the names of members of a household.  \n",
    "\n",
    "**QUESTION**  \n",
    "What if the patient satisfaction data were ordinal measures?  How might that change how you would approach regressing stated satisfaction on the other variables?"
   ]
  },
  {
   "cell_type": "markdown",
   "metadata": {},
   "source": [
    "### Limited Y Variables"
   ]
  },
  {
   "cell_type": "markdown",
   "metadata": {},
   "source": [
    "Many different probability distributions can be used to describe real world data, even when the data of interest is limited in some manner. Here's a very nice explanation of several important probability distributions:  \n",
    "\n",
    "[Common Probability Distributions](http://blog.cloudera.com/blog/2015/12/common-probability-distributions-the-data-scientists-crib-sheet/)  \n",
    "\n",
    "For considerably more detail, see:  \n",
    "\n",
    "[Univariate Distributions](http://www.math.wm.edu/~leemis/chart/UDR/UDR.html)"
   ]
  },
  {
   "cell_type": "markdown",
   "metadata": {},
   "source": [
    "When the data on a criterion variable don't span $R$, regression modeling can get difficult.  But fortunately it's possible to estimate regression models for a several kinds of limited Y variables without having to give up the simplicity and convenience of working with models that are linear in their parameters. This is a characteristic of models that can be estimated as _general linear models_, sometimes called generalized linear models, or \"glm's.\"  This class of mSethods includes models for predicting a broad range of dependent variables, like counts, unordered categories, and variables that are left- and/or right-truncated."
   ]
  },
  {
   "cell_type": "markdown",
   "metadata": {},
   "source": [
    "### GLM model specification"
   ]
  },
  {
   "cell_type": "markdown",
   "metadata": {},
   "source": [
    "The specification of a glm consists of passing the parameter-weighted linear combination of predictor variables through a _link function_ so that the behavior of values on Y can be approximated:  \n",
    "\n",
    "$$\\mathbf{E} (Y_i) = g^{-1}(X_i\\beta)$$  \n",
    "\n",
    "Here, g is the link function.  Link functions can be specified in many statistical programming environments to relate $X_i\\beta$ to several useful distribution functions, e.g., the binomial, negative binomial, Poisson, and gamma. \n",
    "\n",
    "These models are not estimated OLS, but with iterative ML methods. \n",
    "\n",
    "The `statsmodels' includes code for estimating several different [kinds of glm](http://www.statsmodels.org/stable/glm.html#module-reference)."
   ]
  },
  {
   "cell_type": "markdown",
   "metadata": {},
   "source": [
    "### Flexible Regression: Lowess"
   ]
  },
  {
   "cell_type": "markdown",
   "metadata": {},
   "source": [
    "A very useful type of regression method is a non-parametric procedure called _loess_ (for local regression), or _lowess_ (locally weighted scatterplot regression).   Loess fits data using a local weight function such that predictor variables are weighted relative to individual data points.  It _doesn't_ require that a model functional form be specified a priori. It is computationally intensive, however. \n"
   ]
  },
  {
   "cell_type": "markdown",
   "metadata": {},
   "source": [
    "### Smooth Going (Lowess)"
   ]
  },
  {
   "cell_type": "markdown",
   "metadata": {},
   "source": [
    "Let's grab some data and try Lowess.  The EPA has published data on radon levels from about 80,000 households that include an indicator of the floor in a household at which which measurement was made, the county of residence, uranium levels, and several other variables.  Let's load the data.  \n",
    "\n",
    "`statsmodels` has a method called [lowess](http://www.statsmodels.org/devel/generated/statsmodels.nonparametric.smoothers_lowess.lowess.html) the could use. Here we'll first try using `seaborn` to just plot our loess results, as it's easy and it makes a nice picture. It actually calls `statsmodels` to get regression results.  Then if we need some additional control over the regression, we'll try with `statsmodels`."
   ]
  },
  {
   "cell_type": "code",
   "execution_count": 154,
   "metadata": {},
   "outputs": [],
   "source": [
    "import pandas as pd\n",
    "import numpy as np\n",
    "import matplotlib.pyplot as plt\n",
    "import os\n",
    "import seaborn as sns"
   ]
  },
  {
   "cell_type": "code",
   "execution_count": 145,
   "metadata": {},
   "outputs": [],
   "source": [
    "%matplotlib inline"
   ]
  },
  {
   "cell_type": "code",
   "execution_count": 146,
   "metadata": {},
   "outputs": [
    {
     "data": {
      "text/plain": [
       "(919, 30)"
      ]
     },
     "execution_count": 146,
     "metadata": {},
     "output_type": "execute_result"
    }
   ],
   "source": [
    "epaData=pd.read_csv('radon.csv')\n",
    "epaData.shape"
   ]
  },
  {
   "cell_type": "markdown",
   "metadata": {},
   "source": [
    "This is a subset of the EPA data. Let's select the columns (variables) we want to look at and/or that we'll use loess on:"
   ]
  },
  {
   "cell_type": "code",
   "execution_count": 147,
   "metadata": {},
   "outputs": [],
   "source": [
    "epaData2=epaData[['log_radon','floor','Uppm']]"
   ]
  },
  {
   "cell_type": "markdown",
   "metadata": {},
   "source": [
    "*log_radon* is the log of the recorded radon level in a house. *floor* is the floor of the house that the radon measurement was made on.  0 is basement, 1 is first, etc. *Uppm* is a county-level uranium measure.  \n",
    "\n",
    "To make things simpler and faster, let's randomly sample this data to get 100 cases:  "
   ]
  },
  {
   "cell_type": "code",
   "execution_count": 148,
   "metadata": {},
   "outputs": [],
   "source": [
    "selCases=np.random.choice(range(len(epaData2)-1),size=100)"
   ]
  },
  {
   "cell_type": "code",
   "execution_count": 149,
   "metadata": {},
   "outputs": [
    {
     "data": {
      "text/plain": [
       "(100, 3)"
      ]
     },
     "execution_count": 149,
     "metadata": {},
     "output_type": "execute_result"
    },
    {
     "data": {
      "text/html": [
       "<div>\n",
       "<style scoped>\n",
       "    .dataframe tbody tr th:only-of-type {\n",
       "        vertical-align: middle;\n",
       "    }\n",
       "\n",
       "    .dataframe tbody tr th {\n",
       "        vertical-align: top;\n",
       "    }\n",
       "\n",
       "    .dataframe thead th {\n",
       "        text-align: right;\n",
       "    }\n",
       "</style>\n",
       "<table border=\"1\" class=\"dataframe\">\n",
       "  <thead>\n",
       "    <tr style=\"text-align: right;\">\n",
       "      <th></th>\n",
       "      <th>log_radon</th>\n",
       "      <th>floor</th>\n",
       "      <th>Uppm</th>\n",
       "    </tr>\n",
       "  </thead>\n",
       "  <tbody>\n",
       "    <tr>\n",
       "      <th>483</th>\n",
       "      <td>1.193922</td>\n",
       "      <td>0.0</td>\n",
       "      <td>1.024240</td>\n",
       "    </tr>\n",
       "    <tr>\n",
       "      <th>205</th>\n",
       "      <td>1.252763</td>\n",
       "      <td>0.0</td>\n",
       "      <td>0.976144</td>\n",
       "    </tr>\n",
       "    <tr>\n",
       "      <th>121</th>\n",
       "      <td>2.104134</td>\n",
       "      <td>0.0</td>\n",
       "      <td>0.479352</td>\n",
       "    </tr>\n",
       "    <tr>\n",
       "      <th>762</th>\n",
       "      <td>-1.203973</td>\n",
       "      <td>0.0</td>\n",
       "      <td>0.622088</td>\n",
       "    </tr>\n",
       "    <tr>\n",
       "      <th>127</th>\n",
       "      <td>0.470004</td>\n",
       "      <td>0.0</td>\n",
       "      <td>1.410270</td>\n",
       "    </tr>\n",
       "  </tbody>\n",
       "</table>\n",
       "</div>"
      ],
      "text/plain": [
       "     log_radon  floor      Uppm\n",
       "483   1.193922    0.0  1.024240\n",
       "205   1.252763    0.0  0.976144\n",
       "121   2.104134    0.0  0.479352\n",
       "762  -1.203973    0.0  0.622088\n",
       "127   0.470004    0.0  1.410270"
      ]
     },
     "execution_count": 149,
     "metadata": {},
     "output_type": "execute_result"
    }
   ],
   "source": [
    "epaData100=epaData2.loc[selCases]\n",
    "epaData100.shape\n",
    "epaData100.head()"
   ]
  },
  {
   "cell_type": "markdown",
   "metadata": {},
   "source": [
    "Now, some seaborn:"
   ]
  },
  {
   "cell_type": "code",
   "execution_count": 150,
   "metadata": {},
   "outputs": [
    {
     "data": {
      "image/png": "[encoded data removed]",
      "text/plain": [
       "<Figure size 432x288 with 1 Axes>"
      ]
     },
     "metadata": {},
     "output_type": "display_data"
    }
   ],
   "source": [
    "lowPlot1=sns.regplot(epaData100.Uppm,epaData100.log_radon,lowess=True)\n",
    "plt.show()"
   ]
  },
  {
   "cell_type": "code",
   "execution_count": null,
   "metadata": {},
   "outputs": [],
   "source": []
  },
  {
   "cell_type": "markdown",
   "metadata": {},
   "source": [
    "There's not a lot of \"flex\" in the loess line, but you can see some bend in it.   \n",
    "\n",
    "Let's try `statsmodels`:"
   ]
  },
  {
   "cell_type": "code",
   "execution_count": 151,
   "metadata": {},
   "outputs": [],
   "source": [
    "import statsmodels.api as sm\n",
    "lowess = sm.nonparametric.lowess"
   ]
  },
  {
   "cell_type": "code",
   "execution_count": 152,
   "metadata": {},
   "outputs": [],
   "source": [
    "#sorting the data\n",
    "#epaData100.Uppm.value_counts()\n",
    "epaDataSort=epaData100.sort_values('Uppm',ascending=True,kind=\"mergesort\")"
   ]
  },
  {
   "cell_type": "code",
   "execution_count": 153,
   "metadata": {},
   "outputs": [
    {
     "data": {
      "text/plain": [
       "<matplotlib.collections.PathCollection at 0x7f65e16a46a0>"
      ]
     },
     "execution_count": 153,
     "metadata": {},
     "output_type": "execute_result"
    },
    {
     "data": {
      "image/png": "[encoded data removed]",
      "text/plain": [
       "<Figure size 432x288 with 1 Axes>"
      ]
     },
     "metadata": {},
     "output_type": "display_data"
    }
   ],
   "source": [
    "x=epaDataSort.Uppm.values\n",
    "y=epaDataSort.log_radon.values\n",
    "plt.scatter(x,y,color='blue')\n",
    "ys=lowess(y,x,\n",
    "          is_sorted=True,return_sorted=True,frac=0.55,delta=0.0,it=3)[:,1]\n",
    "_ = plt.plot(x,ys,'red',linewidth=2)"
   ]
  },
  {
   "cell_type": "markdown",
   "metadata": {},
   "source": [
    "You can get *predicted* values from a lowess regression with a little fiddling, although prediction is not what it was developed for.  See [prediction with lowess on StackOverflow](https://stackoverflow.com/questions/36252434/predicting-on-new-data-using-locally-weighted-regression-loess-lowess)."
   ]
  },
  {
   "cell_type": "markdown",
   "metadata": {},
   "source": [
    "### That's All For Now!"
   ]
  },
  {
   "cell_type": "markdown",
   "metadata": {},
   "source": [
    "Time is short, and we need to move one to the next topic.  Be sure to review the online documentation for `statsmodels.`  You'll see that the capabilities of this statistics package are very broad.  There always can be something missing that you need.  The `scipy` package can sometimes provide useful and complementary functionality."
   ]
  }
 ],
 "metadata": {
  "hide_input": false,
  "kernelspec": {
   "display_name": "Python 3",
   "language": "python",
   "name": "python3"
  },
  "language_info": {
   "codemirror_mode": {
    "name": "ipython",
    "version": 3
   },
   "file_extension": ".py",
   "mimetype": "text/x-python",
   "name": "python",
   "nbconvert_exporter": "python",
   "pygments_lexer": "ipython3",
   "version": "3.6.5"
  },
  "latex_envs": {
   "LaTeX_envs_menu_present": true,
   "autoclose": false,
   "autocomplete": true,
   "bibliofile": "biblio.bib",
   "cite_by": "apalike",
   "current_citInitial": 1,
   "eqLabelWithNumbers": true,
   "eqNumInitial": 1,
   "hotkeys": {
    "equation": "Ctrl-E",
    "itemize": "Ctrl-I"
   },
   "labels_anchors": false,
   "latex_user_defs": false,
   "report_style_numbering": false,
   "user_envs_cfg": false
  }
 },
 "nbformat": 4,
 "nbformat_minor": 2
}
