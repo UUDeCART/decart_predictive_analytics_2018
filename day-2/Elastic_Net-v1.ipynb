{
 "cells": [
  {
   "cell_type": "markdown",
   "metadata": {},
   "source": [
    "### Lasso and Elastic Net"
   ]
  },
  {
   "cell_type": "markdown",
   "metadata": {},
   "source": [
    "The _Lasso_ (\"least absolute shrinkage and selection operator\") is a regression model that does variable selection and regularization at the same time.  It does his by constraining the sum of the absolute values of regression coefficients to be less than a fixed value.  As a result, coefficients are \"shrunk\" towards zero, and some are forced to be zero, effectively selecting them \"out\" of the model.\n",
    "\n",
    "Originally specified for least squares, the Lasso has been generalized to generalized linear models (\"glm's\"), to proportional hazards models (e.g. for survival analysis), and to other types of models.  \n",
    "\n",
    "_Elastic Net_ extends the penalty constraint used in the Lasso such that an unique optimization solution can be had.  The Lasso and ridge regression are special cases of the Elastic Net specification.\n",
    "\n",
    "Here's the original Elastic Net reference:\n",
    "\n",
    "[Zou, H. & Hastie, T. (2005) \"Regularization and variable selection via the\n",
    "elastic net\"](http://citeseerx.ist.psu.edu/viewdoc/summary?doi=10.1.1.124.4696)\n",
    "\n",
    "The `statsmodels` package includes Elastic Net code.  Let's use it to estimate a Lasso regression model for the patient satisfaction data."
   ]
  },
  {
   "cell_type": "code",
   "execution_count": 1,
   "metadata": {},
   "outputs": [],
   "source": [
    "from IPython.core.interactiveshell import InteractiveShell\n",
    "InteractiveShell.ast_node_interactivity = \"all\""
   ]
  },
  {
   "cell_type": "code",
   "execution_count": 46,
   "metadata": {},
   "outputs": [],
   "source": [
    "import pandas as pd\n",
    "import numpy as np\n",
    "import statsmodels.api as sm\n",
    "import statsmodels.formula.api as smf"
   ]
  },
  {
   "cell_type": "code",
   "execution_count": 47,
   "metadata": {},
   "outputs": [],
   "source": [
    "patSatDF=pd.read_csv('DECART-patSat.csv')"
   ]
  },
  {
   "cell_type": "code",
   "execution_count": 48,
   "metadata": {},
   "outputs": [
    {
     "data": {
      "text/plain": [
       "Index(['caseID', 'patSat', 'q2', 'q3', 'q4', 'q5', 'q6', 'q7', 'q8', 'q9',\n",
       "       'ptCat'],\n",
       "      dtype='object')"
      ]
     },
     "execution_count": 48,
     "metadata": {},
     "output_type": "execute_result"
    }
   ],
   "source": [
    "patSatDF.columns"
   ]
  },
  {
   "cell_type": "code",
   "execution_count": 52,
   "metadata": {},
   "outputs": [
    {
     "name": "stdout",
     "output_type": "stream",
     "text": [
      "                            OLS Regression Results                            \n",
      "==============================================================================\n",
      "Dep. Variable:                 patSat   R-squared:                       0.685\n",
      "Model:                            OLS   Adj. R-squared:                  0.684\n",
      "Method:                 Least Squares   F-statistic:                     490.2\n",
      "Date:                Tue, 31 Jul 2018   Prob (F-statistic):               0.00\n",
      "Time:                        20:30:58   Log-Likelihood:                -3218.3\n",
      "No. Observations:                1811   AIC:                             6455.\n",
      "Df Residuals:                    1802   BIC:                             6504.\n",
      "Df Model:                           8                                         \n",
      "Covariance Type:            nonrobust                                         \n",
      "==============================================================================\n",
      "                 coef    std err          t      P>|t|      [0.025      0.975]\n",
      "------------------------------------------------------------------------------\n",
      "Intercept     -0.2116      0.141     -1.504      0.133      -0.487       0.064\n",
      "q2             0.2304      0.021     10.912      0.000       0.189       0.272\n",
      "q3             0.1221      0.021      5.874      0.000       0.081       0.163\n",
      "q4             0.0673      0.020      3.357      0.001       0.028       0.107\n",
      "q5             0.4285      0.020     21.534      0.000       0.389       0.467\n",
      "q6             0.1285      0.021      6.039      0.000       0.087       0.170\n",
      "q7             0.0418      0.023      1.854      0.064      -0.002       0.086\n",
      "q8            -0.0425      0.026     -1.644      0.100      -0.093       0.008\n",
      "q9             0.0309      0.024      1.280      0.201      -0.016       0.078\n",
      "==============================================================================\n",
      "Omnibus:                      104.120   Durbin-Watson:                   1.987\n",
      "Prob(Omnibus):                  0.000   Jarque-Bera (JB):              394.450\n",
      "Skew:                          -0.112   Prob(JB):                     2.22e-86\n",
      "Kurtosis:                       5.275   Cond. No.                         84.4\n",
      "==============================================================================\n",
      "\n",
      "Warnings:\n",
      "[1] Standard Errors assume that the covariance matrix of the errors is correctly specified.\n"
     ]
    }
   ],
   "source": [
    "mod1formula=\"patSat ~ q2 + + q3 + q4 + q5 + q6 +  q7 + q8 + q9\"\n",
    "\n",
    "mod1 = sm.OLS.from_formula(mod1formula, data=patSatDF)\n",
    "mod1Result=mod1.fit()\n",
    "print(mod1Result.summary())"
   ]
  },
  {
   "cell_type": "code",
   "execution_count": 65,
   "metadata": {},
   "outputs": [
    {
     "data": {
      "text/html": [
       "<style>.container { width:90% !important; }</style>"
      ],
      "text/plain": [
       "<IPython.core.display.HTML object>"
      ]
     },
     "metadata": {},
     "output_type": "display_data"
    }
   ],
   "source": [
    "from IPython.core.display import display, HTML\n",
    "display(HTML(\"<style>.container { width:90% !important; }</style>\"))"
   ]
  },
  {
   "cell_type": "code",
   "execution_count": 57,
   "metadata": {},
   "outputs": [],
   "source": [
    "EEmod1Result=mod1.fit_regularized(alpha=.5)  # Try changing alpha"
   ]
  },
  {
   "cell_type": "code",
   "execution_count": 58,
   "metadata": {},
   "outputs": [
    {
     "name": "stdout",
     "output_type": "stream",
     "text": [
      "Intercept    0.000000\n",
      "q2           0.217778\n",
      "q3           0.153341\n",
      "q4           0.126520\n",
      "q5           0.486177\n",
      "q6           0.000000\n",
      "q7           0.000000\n",
      "q8           0.000000\n",
      "q9           0.000000\n",
      "dtype: float64\n"
     ]
    }
   ],
   "source": [
    "print(EEmod1Result.params)"
   ]
  },
  {
   "cell_type": "code",
   "execution_count": 67,
   "metadata": {},
   "outputs": [
    {
     "name": "stdout",
     "output_type": "stream",
     "text": [
      "                     Intercept        q2        q3        q4        q5  \\\n",
      "0.0                   0.092279  0.136626  0.167548  0.138489  0.529250   \n",
      "0.05                  0.000000  0.239431  0.000000  0.062438  0.499130   \n",
      "0.1                   0.000000  0.243807  0.000000  0.037775  0.473152   \n",
      "0.15000000000000002   0.000000  0.340779  0.000000  0.136884  0.519547   \n",
      "0.2                   0.000000  0.299611  0.000000  0.075122  0.474417   \n",
      "0.25                  0.000000  0.222406  0.148862  0.123075  0.495403   \n",
      "0.30000000000000004   0.000000  0.202805  0.121089  0.085791  0.467058   \n",
      "0.35000000000000003   0.000000  0.203001  0.115374  0.066651  0.443893   \n",
      "0.4                   0.000000  0.220283  0.151797  0.125697  0.488505   \n",
      "0.45                  0.000000  0.219049  0.152602  0.126192  0.487211   \n",
      "0.5                   0.000000  0.217778  0.153341  0.126520  0.486177   \n",
      "\n",
      "                           q6        q7        q8        q9  \n",
      "0.0                  0.246529 -0.052442 -0.138334 -0.028139  \n",
      "0.05                 0.243350  0.026989 -0.088278  0.000000  \n",
      "0.1                  0.215878  0.047806 -0.046720  0.000000  \n",
      "0.15000000000000002  0.000000  0.000000  0.000000  0.000000  \n",
      "0.2                  0.000000  0.125819  0.000000  0.000000  \n",
      "0.25                 0.000000  0.000000  0.000000  0.000000  \n",
      "0.30000000000000004  0.000000  0.096670  0.000000  0.000000  \n",
      "0.35000000000000003  0.139944  0.000000  0.000000  0.000000  \n",
      "0.4                  0.000000  0.000000  0.000000  0.000000  \n",
      "0.45                 0.000000  0.000000  0.000000  0.000000  \n",
      "0.5                  0.000000  0.000000  0.000000  0.000000  \n"
     ]
    }
   ],
   "source": [
    "# Here we'll iterate over values of alpha and save params for each alpha\n",
    "alphList = []\n",
    "alphas = np.arange(0, 0.55, 0.05)\n",
    "mod = sm.OLS.from_formula(mod1formula, data=patSatDF)\n",
    "for alpha in alphas:\n",
    "    Result = mod.fit_regularized(alpha=alpha)\n",
    "    alphList.append(Result.params)\n",
    "Results = pd.DataFrame(alphList, index=[str(x) for x in alphas])\n",
    "print(Results)"
   ]
  }
 ],
 "metadata": {
  "kernelspec": {
   "display_name": "Python 3",
   "language": "python",
   "name": "python3"
  },
  "language_info": {
   "codemirror_mode": {
    "name": "ipython",
    "version": 3
   },
   "file_extension": ".py",
   "mimetype": "text/x-python",
   "name": "python",
   "nbconvert_exporter": "python",
   "pygments_lexer": "ipython3",
   "version": "3.6.5"
  },
  "latex_envs": {
   "LaTeX_envs_menu_present": true,
   "autoclose": false,
   "autocomplete": true,
   "bibliofile": "biblio.bib",
   "cite_by": "apalike",
   "current_citInitial": 1,
   "eqLabelWithNumbers": true,
   "eqNumInitial": 1,
   "hotkeys": {
    "equation": "Ctrl-E",
    "itemize": "Ctrl-I"
   },
   "labels_anchors": false,
   "latex_user_defs": false,
   "report_style_numbering": false,
   "user_envs_cfg": false
  },
  "toc": {
   "base_numbering": 1,
   "nav_menu": {},
   "number_sections": true,
   "sideBar": true,
   "skip_h1_title": false,
   "title_cell": "Table of Contents",
   "title_sidebar": "Contents",
   "toc_cell": false,
   "toc_position": {},
   "toc_section_display": true,
   "toc_window_display": false
  },
  "varInspector": {
   "cols": {
    "lenName": 16,
    "lenType": 16,
    "lenVar": 40
   },
   "kernels_config": {
    "python": {
     "delete_cmd_postfix": "",
     "delete_cmd_prefix": "del ",
     "library": "var_list.py",
     "varRefreshCmd": "print(var_dic_list())"
    },
    "r": {
     "delete_cmd_postfix": ") ",
     "delete_cmd_prefix": "rm(",
     "library": "var_list.r",
     "varRefreshCmd": "cat(var_dic_list()) "
    }
   },
   "types_to_exclude": [
    "module",
    "function",
    "builtin_function_or_method",
    "instance",
    "_Feature"
   ],
   "window_display": false
  }
 },
 "nbformat": 4,
 "nbformat_minor": 2
}
