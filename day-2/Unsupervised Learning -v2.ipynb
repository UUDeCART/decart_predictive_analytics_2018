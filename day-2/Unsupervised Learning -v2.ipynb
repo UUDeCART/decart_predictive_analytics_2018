{
 "cells": [
  {
   "cell_type": "code",
   "execution_count": 4,
   "metadata": {},
   "outputs": [],
   "source": [
    "# The following allows multiple outputs in a single output cell.\n",
    "from IPython.core.interactiveshell import InteractiveShell\n",
    "InteractiveShell.ast_node_interactivity = \"all\""
   ]
  },
  {
   "cell_type": "markdown",
   "metadata": {},
   "source": [
    "Unsupervised learning problems consists of learning values or labels for unlabeled data.  There is no criterion measure available:  No Y, just X's.  \n",
    "\n",
    "Most methods used for this type of ML problem are referred to as \"clustering\" algorithms. These are methods that attempt to partition cases into some finite number of categories.  The category labels are nominal data(i.e., unordered categories). The groups defined by clustering may be understood by describing their features, comparing clusters to each other, or by predicting cluster membership.\n",
    "\n",
    "In a sense, clustering can be seen as a very extreme missing data problem.  All the labels data is missing, and the goal is to guess what they are. At the core of this the challenge of deciding how many clusters there are in a data set."
   ]
  },
  {
   "cell_type": "markdown",
   "metadata": {},
   "source": [
    "### Basic Types of Clustering"
   ]
  },
  {
   "cell_type": "markdown",
   "metadata": {},
   "source": [
    "Most frequently used methods fall into one of the following categories:\n",
    "\n",
    "* Hierarchical clustering\n",
    "* Partitioning\n",
    "* Model based  \n",
    "\n",
    "_Hierarchical_ methods can be _agglomerative_ or _divisive_.  In the case of the former, when the clustering algorithm begins, observations are each in their own cluster.  As the algorithm proceeds, observations are joined to others using a _linkage_ rule.  In _divisive_ hierarchical clustering, observations start in one big cluster, and they are split off until all observations are separate.  Note that when using either of these approaches, a decision must be made about the actual number of clusters.\n",
    "\n",
    "_Partitioning_ methods attempt to put observations into clusters based on proximities to a centroid measure like a vector of means or medians, while optimizing an objective like minimizing within-cluster variation.  In these methods, the number of clusters is provided a priori to the algorithm.  \n",
    "\n",
    "_Model based_ methods work by assuming a statistical distribution approximates the data.  The distribution might be, for example, the multivariate Gaussian. Models of this type are often referred to as _finite mixture_ methods.  A version of the so-called [expectation maximization algorithm](https://en.wikipedia.org/wiki/Expectation%E2%80%93maximization_algorithm) is applied to estimate the probabilities of each observation belonging to one of a finite number of groups with it's own separate probability density.  This algorithm was originally described as a method for imputing missing data. \n",
    "\n",
    "Another, more recent, model-based approach is clustering using a [copula](https://en.wikipedia.org/wiki/Copula_(probability_theory).  A copula is a multivariate distribution that has uniform distributions on it's margins such that variables it describes can have different distributions, e.g., Gaussian, Poisson, and negative binomial.  Common forms of copulas include Gaussian and elliptical.  [Mixtures of copulas] have been used to cluster data where clusters consist of observations defined by a copula on the variables that are the basis for clustering. "
   ]
  },
  {
   "cell_type": "markdown",
   "metadata": {},
   "source": [
    "### K-Means Clustering Exercise"
   ]
  },
  {
   "cell_type": "markdown",
   "metadata": {},
   "source": [
    "We're going to use the patient satisfaction data again, here."
   ]
  },
  {
   "cell_type": "code",
   "execution_count": 5,
   "metadata": {},
   "outputs": [],
   "source": [
    "import pandas as pd\n",
    "import numpy as np\n",
    "import matplotlib.pyplot as plt\n",
    "import os\n",
    "import seaborn as sns"
   ]
  },
  {
   "cell_type": "code",
   "execution_count": 6,
   "metadata": {},
   "outputs": [],
   "source": [
    "%matplotlib inline"
   ]
  },
  {
   "cell_type": "code",
   "execution_count": 7,
   "metadata": {},
   "outputs": [],
   "source": [
    "patSatData=pd.read_csv('DECART-patSat.csv')"
   ]
  },
  {
   "cell_type": "markdown",
   "metadata": {},
   "source": [
    "Here's what the variables are:  \n",
    "\n",
    "| var name | item                 | rating scale  |\n",
    "| :--------| :--------------------| :-------------|\n",
    "| caseID   | respondent number    |  NA\n",
    "|   sat    | overall satisfaction | 1 = very dissat, 10 = very sat\n",
    "|   q2     | nurses listened      | 1 = never, 10 = always\n",
    "|   q3     | nurses explained     | 1 = never, 10 = always\n",
    "|   q4     | staff courteous      | 1 = never, 10 = always\n",
    "|   q5     | meals appetizing     | 1 = never, 10 = always\n",
    "|   q6     | doctors listened     | 1 = never, 10 = always\n",
    "|   q7     | doctors explained    | 1 = never, 10 = always\n",
    "|   q8     | staff responsive     | 1 = not at all, 10 = extremely\n",
    "|   q9     | room was comfortable | 1 = not at all, 10 = extremely\n",
    "| ptCat    | patient category     | 1= surg, 1 = med, 2 = concierge\n"
   ]
  },
  {
   "cell_type": "markdown",
   "metadata": {},
   "source": [
    "`scikit-learn` has some convenient clustering tools."
   ]
  },
  {
   "cell_type": "code",
   "execution_count": 8,
   "metadata": {},
   "outputs": [],
   "source": [
    "from sklearn.cluster import KMeans"
   ]
  },
  {
   "cell_type": "code",
   "execution_count": 9,
   "metadata": {},
   "outputs": [
    {
     "data": {
      "text/plain": [
       "numpy.ndarray"
      ]
     },
     "execution_count": 9,
     "metadata": {},
     "output_type": "execute_result"
    },
    {
     "data": {
      "text/plain": [
       "(1811, 8)"
      ]
     },
     "execution_count": 9,
     "metadata": {},
     "output_type": "execute_result"
    }
   ],
   "source": [
    "# select some variables, and convert to an np array:\n",
    "clustVars=patSatData.columns[2:10]\n",
    "patX=patSatData.loc[:,clustVars].values\n",
    "type(patX)\n",
    "patX.shape\n",
    "X=patX"
   ]
  },
  {
   "cell_type": "code",
   "execution_count": 10,
   "metadata": {},
   "outputs": [],
   "source": [
    "#Three cluster solution:\n",
    "\n",
    "KM3=KMeans(n_clusters=3,random_state=0)"
   ]
  },
  {
   "cell_type": "code",
   "execution_count": 11,
   "metadata": {},
   "outputs": [],
   "source": [
    "KM3labs=KM3.fit_predict(X)  # cluster labels"
   ]
  },
  {
   "cell_type": "code",
   "execution_count": 12,
   "metadata": {},
   "outputs": [
    {
     "data": {
      "text/plain": [
       "2    780\n",
       "1    579\n",
       "0    452\n",
       "dtype: int64"
      ]
     },
     "execution_count": 12,
     "metadata": {},
     "output_type": "execute_result"
    }
   ],
   "source": [
    "pd.Series(KM3labs).value_counts()  # the number of cases in each cluster"
   ]
  },
  {
   "cell_type": "markdown",
   "metadata": {},
   "source": [
    "**EXERCISE** Get two cluster and three cluster solutions in the same way that the three cluster solution was obtained, above."
   ]
  },
  {
   "cell_type": "markdown",
   "metadata": {},
   "source": [
    "So, how \"good\" is this solution?  It turns out that here many different metrics that can inform about cluster solution \"quality,\" e.g. on [cluster metrics on scikit-learn.org](http://scikit-learn.org/stable/modules/classes.html#module-sklearn.metrics).  An online search will result in a lot of content on the topic.   For example, you can find information about Tibshirani, Walther and Hastie's [Gap Statistic](https://web.stanford.edu/~hastie/Papers/gap.pdf), as well as some Python implementations of it.  Other common practices include plotting the within cluster sums of squares as a function of the number of clusters, and picking the number corresponding to an \"elbow\" in the curve.  Like looking for the kink in a scree plot for principal components analysis results, an \"elbow\" may not be so obvious.\n",
    "\n",
    "Generally speaking, quality measures are of two types, those that compare a solution to \"truth,\" which require knowing what the _real_ cluster memberships are, and those that have to do with the result per se, e.g. being about the tightness and separate of clusters."
   ]
  },
  {
   "cell_type": "markdown",
   "metadata": {},
   "source": [
    "One of the cluster quality metrics `scikit-learn` provides for use with the \"truth\" isn't known is the [Calinski-Harabaz index](http://scikit-learn.org/stable/modules/generated/sklearn.metrics.calinski_harabaz_score.html#sklearn.metrics.calinski_harabaz_score), which measures the ratio of within cluster variation to the variation between clusters.  The larger the better for this one.  Let's see what it says about our three cluster solution:"
   ]
  },
  {
   "cell_type": "code",
   "execution_count": 50,
   "metadata": {},
   "outputs": [
    {
     "name": "stdout",
     "output_type": "stream",
     "text": [
      " 884.733\n"
     ]
    }
   ],
   "source": [
    "from sklearn.metrics import calinski_harabaz_score\n",
    "print('{:8.3f}'.format(calinski_harabaz_score(X, KM3labs)))"
   ]
  },
  {
   "cell_type": "markdown",
   "metadata": {},
   "source": [
    "The nature of a clustering solution could in principle be understood if it spans just a couple of dimensions, and if the shapes of the clusters in this space are relatively simple, e.g. hyper-elliptical versus stretched and distorted toroids.  \n",
    "\n",
    "It turns out that there is a useful way of visually examining cluster solutions.  It consist of plotting a solution's [silhouette scores](https://en.wikipedia.org/wiki/Silhouette_(clustering).  \n",
    "\n",
    "Luckily, `scikit-learn` can compute these scores, and we can plot them. These scores are measures of how well observations are assigned to the clusters they end up in. Score values fall in `[-1,1`], with 1 meaning that an observation "
   ]
  },
  {
   "cell_type": "code",
   "execution_count": 14,
   "metadata": {},
   "outputs": [],
   "source": [
    "from sklearn.metrics import silhouette_score, silhouette_samples"
   ]
  },
  {
   "cell_type": "code",
   "execution_count": 15,
   "metadata": {},
   "outputs": [
    {
     "name": "stdout",
     "output_type": "stream",
     "text": [
      " 0.237\n"
     ]
    }
   ],
   "source": [
    "KM3sil_score=silhouette_score(X, KM3labs, metric='euclidean')  # This is the overall average\n",
    "print('{:6.3f}'.format(KM3sil_score))"
   ]
  },
  {
   "cell_type": "markdown",
   "metadata": {},
   "source": [
    "`silhouette_samples` returns the score for each observation:"
   ]
  },
  {
   "cell_type": "code",
   "execution_count": 16,
   "metadata": {},
   "outputs": [],
   "source": [
    "KM3sil_samps=silhouette_samples(X,KM3labs)"
   ]
  },
  {
   "cell_type": "code",
   "execution_count": 17,
   "metadata": {},
   "outputs": [],
   "source": [
    "silLabels=pd.DataFrame({'score':KM3sil_samps,'label':KM3labs})"
   ]
  },
  {
   "cell_type": "code",
   "execution_count": 59,
   "metadata": {},
   "outputs": [
    {
     "data": {
      "text/html": [
       "<div>\n",
       "<style scoped>\n",
       "    .dataframe tbody tr th:only-of-type {\n",
       "        vertical-align: middle;\n",
       "    }\n",
       "\n",
       "    .dataframe tbody tr th {\n",
       "        vertical-align: top;\n",
       "    }\n",
       "\n",
       "    .dataframe thead tr th {\n",
       "        text-align: left;\n",
       "    }\n",
       "\n",
       "    .dataframe thead tr:last-of-type th {\n",
       "        text-align: right;\n",
       "    }\n",
       "</style>\n",
       "<table border=\"1\" class=\"dataframe\">\n",
       "  <thead>\n",
       "    <tr>\n",
       "      <th></th>\n",
       "      <th colspan=\"8\" halign=\"left\">score</th>\n",
       "    </tr>\n",
       "    <tr>\n",
       "      <th></th>\n",
       "      <th>count</th>\n",
       "      <th>mean</th>\n",
       "      <th>std</th>\n",
       "      <th>min</th>\n",
       "      <th>25%</th>\n",
       "      <th>50%</th>\n",
       "      <th>75%</th>\n",
       "      <th>max</th>\n",
       "    </tr>\n",
       "    <tr>\n",
       "      <th>label</th>\n",
       "      <th></th>\n",
       "      <th></th>\n",
       "      <th></th>\n",
       "      <th></th>\n",
       "      <th></th>\n",
       "      <th></th>\n",
       "      <th></th>\n",
       "      <th></th>\n",
       "    </tr>\n",
       "  </thead>\n",
       "  <tbody>\n",
       "    <tr>\n",
       "      <th>0</th>\n",
       "      <td>452.0</td>\n",
       "      <td>0.178393</td>\n",
       "      <td>0.129224</td>\n",
       "      <td>-0.067509</td>\n",
       "      <td>0.064449</td>\n",
       "      <td>0.180259</td>\n",
       "      <td>0.291649</td>\n",
       "      <td>0.394403</td>\n",
       "    </tr>\n",
       "    <tr>\n",
       "      <th>1</th>\n",
       "      <td>579.0</td>\n",
       "      <td>0.428612</td>\n",
       "      <td>0.146009</td>\n",
       "      <td>0.062250</td>\n",
       "      <td>0.327661</td>\n",
       "      <td>0.457314</td>\n",
       "      <td>0.563074</td>\n",
       "      <td>0.600311</td>\n",
       "    </tr>\n",
       "    <tr>\n",
       "      <th>2</th>\n",
       "      <td>780.0</td>\n",
       "      <td>0.129245</td>\n",
       "      <td>0.118329</td>\n",
       "      <td>-0.178240</td>\n",
       "      <td>0.054977</td>\n",
       "      <td>0.136930</td>\n",
       "      <td>0.223170</td>\n",
       "      <td>0.360825</td>\n",
       "    </tr>\n",
       "  </tbody>\n",
       "</table>\n",
       "</div>"
      ],
      "text/plain": [
       "       score                                                              \\\n",
       "       count      mean       std       min       25%       50%       75%   \n",
       "label                                                                      \n",
       "0      452.0  0.178393  0.129224 -0.067509  0.064449  0.180259  0.291649   \n",
       "1      579.0  0.428612  0.146009  0.062250  0.327661  0.457314  0.563074   \n",
       "2      780.0  0.129245  0.118329 -0.178240  0.054977  0.136930  0.223170   \n",
       "\n",
       "                 \n",
       "            max  \n",
       "label            \n",
       "0      0.394403  \n",
       "1      0.600311  \n",
       "2      0.360825  "
      ]
     },
     "execution_count": 59,
     "metadata": {},
     "output_type": "execute_result"
    }
   ],
   "source": [
    "silLabels.groupby(silLabels.label).describe()"
   ]
  },
  {
   "cell_type": "markdown",
   "metadata": {},
   "source": [
    "Negative values suggest some observations are poorly assigned to the clusters they are in. Let's graph the scores to get a better look."
   ]
  },
  {
   "cell_type": "markdown",
   "metadata": {},
   "source": [
    "Some borrowed code from:  \n",
    "\n",
    "(http://scikit-learn.org/stable/auto_examples/cluster/plot_kmeans_silhouette_analysis.html)\n",
    "\n",
    "the array X of predictor, or \"basis\" variables, is presumed to exist.  The list range_n_clusters specifies the dimensionalities of the cluster solutions to be plotted."
   ]
  },
  {
   "cell_type": "code",
   "execution_count": 42,
   "metadata": {
    "collapsed": true
   },
   "outputs": [
    {
     "data": {
      "text/plain": [
       "(-0.1, 1)"
      ]
     },
     "execution_count": 42,
     "metadata": {},
     "output_type": "execute_result"
    },
    {
     "data": {
      "text/plain": [
       "(0, 1841)"
      ]
     },
     "execution_count": 42,
     "metadata": {},
     "output_type": "execute_result"
    },
    {
     "name": "stdout",
     "output_type": "stream",
     "text": [
      "For n_clusters = 2 The average silhouette_score is : 0.33314345153373115\n"
     ]
    },
    {
     "data": {
      "text/plain": [
       "<matplotlib.collections.PolyCollection at 0x7fe8c84dd390>"
      ]
     },
     "execution_count": 42,
     "metadata": {},
     "output_type": "execute_result"
    },
    {
     "data": {
      "text/plain": [
       "Text(-0.05,421,'0')"
      ]
     },
     "execution_count": 42,
     "metadata": {},
     "output_type": "execute_result"
    },
    {
     "data": {
      "text/plain": [
       "<matplotlib.collections.PolyCollection at 0x7fe8c8483a90>"
      ]
     },
     "execution_count": 42,
     "metadata": {},
     "output_type": "execute_result"
    },
    {
     "data": {
      "text/plain": [
       "Text(-0.05,1336.5,'1')"
      ]
     },
     "execution_count": 42,
     "metadata": {},
     "output_type": "execute_result"
    },
    {
     "data": {
      "text/plain": [
       "Text(0.5,1,'The silhouette plot for the various clusters.')"
      ]
     },
     "execution_count": 42,
     "metadata": {},
     "output_type": "execute_result"
    },
    {
     "data": {
      "text/plain": [
       "Text(0.5,0,'The silhouette coefficient values')"
      ]
     },
     "execution_count": 42,
     "metadata": {},
     "output_type": "execute_result"
    },
    {
     "data": {
      "text/plain": [
       "Text(0,0.5,'Cluster label')"
      ]
     },
     "execution_count": 42,
     "metadata": {},
     "output_type": "execute_result"
    },
    {
     "data": {
      "text/plain": [
       "<matplotlib.lines.Line2D at 0x7fe8c84611d0>"
      ]
     },
     "execution_count": 42,
     "metadata": {},
     "output_type": "execute_result"
    },
    {
     "data": {
      "text/plain": [
       "[]"
      ]
     },
     "execution_count": 42,
     "metadata": {},
     "output_type": "execute_result"
    },
    {
     "data": {
      "text/plain": [
       "[<matplotlib.axis.XTick at 0x7fe8c8463278>,\n",
       " <matplotlib.axis.XTick at 0x7fe8c8463128>,\n",
       " <matplotlib.axis.XTick at 0x7fe8c840ea90>,\n",
       " <matplotlib.axis.XTick at 0x7fe8c840eeb8>,\n",
       " <matplotlib.axis.XTick at 0x7fe8c84103c8>,\n",
       " <matplotlib.axis.XTick at 0x7fe8c8410898>,\n",
       " <matplotlib.axis.XTick at 0x7fe8c8410d68>]"
      ]
     },
     "execution_count": 42,
     "metadata": {},
     "output_type": "execute_result"
    },
    {
     "data": {
      "text/plain": [
       "<matplotlib.collections.PathCollection at 0x7fe8c8410470>"
      ]
     },
     "execution_count": 42,
     "metadata": {},
     "output_type": "execute_result"
    },
    {
     "data": {
      "text/plain": [
       "<matplotlib.collections.PathCollection at 0x7fe8c840e898>"
      ]
     },
     "execution_count": 42,
     "metadata": {},
     "output_type": "execute_result"
    },
    {
     "data": {
      "text/plain": [
       "<matplotlib.collections.PathCollection at 0x7fe8c8417860>"
      ]
     },
     "execution_count": 42,
     "metadata": {},
     "output_type": "execute_result"
    },
    {
     "data": {
      "text/plain": [
       "<matplotlib.collections.PathCollection at 0x7fe8c8560c50>"
      ]
     },
     "execution_count": 42,
     "metadata": {},
     "output_type": "execute_result"
    },
    {
     "data": {
      "text/plain": [
       "Text(0.5,1,'The visualization of the clustered data.')"
      ]
     },
     "execution_count": 42,
     "metadata": {},
     "output_type": "execute_result"
    },
    {
     "data": {
      "text/plain": [
       "Text(0.5,0,'Feature space for the 1st feature')"
      ]
     },
     "execution_count": 42,
     "metadata": {},
     "output_type": "execute_result"
    },
    {
     "data": {
      "text/plain": [
       "Text(0,0.5,'Feature space for the 2nd feature')"
      ]
     },
     "execution_count": 42,
     "metadata": {},
     "output_type": "execute_result"
    },
    {
     "data": {
      "text/plain": [
       "Text(0.5,0.98,'Silhouette analysis for KMeans clustering on sample data with n_clusters = 2')"
      ]
     },
     "execution_count": 42,
     "metadata": {},
     "output_type": "execute_result"
    },
    {
     "data": {
      "image/png": "[encoded data removed]",
      "text/plain": [
       "<Figure size 1296x504 with 2 Axes>"
      ]
     },
     "metadata": {},
     "output_type": "display_data"
    },
    {
     "data": {
      "text/plain": [
       "(-0.1, 1)"
      ]
     },
     "execution_count": 42,
     "metadata": {},
     "output_type": "execute_result"
    },
    {
     "data": {
      "text/plain": [
       "(0, 1851)"
      ]
     },
     "execution_count": 42,
     "metadata": {},
     "output_type": "execute_result"
    },
    {
     "name": "stdout",
     "output_type": "stream",
     "text": [
      "For n_clusters = 3 The average silhouette_score is : 0.23722292145387786\n"
     ]
    },
    {
     "data": {
      "text/plain": [
       "<matplotlib.collections.PolyCollection at 0x7fe8c8676438>"
      ]
     },
     "execution_count": 42,
     "metadata": {},
     "output_type": "execute_result"
    },
    {
     "data": {
      "text/plain": [
       "Text(-0.05,299.5,'0')"
      ]
     },
     "execution_count": 42,
     "metadata": {},
     "output_type": "execute_result"
    },
    {
     "data": {
      "text/plain": [
       "<matplotlib.collections.PolyCollection at 0x7fe8c8676320>"
      ]
     },
     "execution_count": 42,
     "metadata": {},
     "output_type": "execute_result"
    },
    {
     "data": {
      "text/plain": [
       "Text(-0.05,989,'1')"
      ]
     },
     "execution_count": 42,
     "metadata": {},
     "output_type": "execute_result"
    },
    {
     "data": {
      "text/plain": [
       "<matplotlib.collections.PolyCollection at 0x7fe8c86706d8>"
      ]
     },
     "execution_count": 42,
     "metadata": {},
     "output_type": "execute_result"
    },
    {
     "data": {
      "text/plain": [
       "Text(-0.05,1615,'2')"
      ]
     },
     "execution_count": 42,
     "metadata": {},
     "output_type": "execute_result"
    },
    {
     "data": {
      "text/plain": [
       "Text(0.5,1,'The silhouette plot for the various clusters.')"
      ]
     },
     "execution_count": 42,
     "metadata": {},
     "output_type": "execute_result"
    },
    {
     "data": {
      "text/plain": [
       "Text(0.5,0,'The silhouette coefficient values')"
      ]
     },
     "execution_count": 42,
     "metadata": {},
     "output_type": "execute_result"
    },
    {
     "data": {
      "text/plain": [
       "Text(0,0.5,'Cluster label')"
      ]
     },
     "execution_count": 42,
     "metadata": {},
     "output_type": "execute_result"
    },
    {
     "data": {
      "text/plain": [
       "<matplotlib.lines.Line2D at 0x7fe8c857bf28>"
      ]
     },
     "execution_count": 42,
     "metadata": {},
     "output_type": "execute_result"
    },
    {
     "data": {
      "text/plain": [
       "[]"
      ]
     },
     "execution_count": 42,
     "metadata": {},
     "output_type": "execute_result"
    },
    {
     "data": {
      "text/plain": [
       "[<matplotlib.axis.XTick at 0x7fe8c8571438>,\n",
       " <matplotlib.axis.XTick at 0x7fe8c8571cf8>,\n",
       " <matplotlib.axis.XTick at 0x7fe8c8666cc0>,\n",
       " <matplotlib.axis.XTick at 0x7fe8c8666630>,\n",
       " <matplotlib.axis.XTick at 0x7fe8c86666d8>,\n",
       " <matplotlib.axis.XTick at 0x7fe8c865d0f0>,\n",
       " <matplotlib.axis.XTick at 0x7fe8c865de80>]"
      ]
     },
     "execution_count": 42,
     "metadata": {},
     "output_type": "execute_result"
    },
    {
     "data": {
      "text/plain": [
       "<matplotlib.collections.PathCollection at 0x7fe8c865dc88>"
      ]
     },
     "execution_count": 42,
     "metadata": {},
     "output_type": "execute_result"
    },
    {
     "data": {
      "text/plain": [
       "<matplotlib.collections.PathCollection at 0x7fe8c865d438>"
      ]
     },
     "execution_count": 42,
     "metadata": {},
     "output_type": "execute_result"
    },
    {
     "data": {
      "text/plain": [
       "<matplotlib.collections.PathCollection at 0x7fe8c86661d0>"
      ]
     },
     "execution_count": 42,
     "metadata": {},
     "output_type": "execute_result"
    },
    {
     "data": {
      "text/plain": [
       "<matplotlib.collections.PathCollection at 0x7fe8c867e518>"
      ]
     },
     "execution_count": 42,
     "metadata": {},
     "output_type": "execute_result"
    },
    {
     "data": {
      "text/plain": [
       "<matplotlib.collections.PathCollection at 0x7fe8c865d630>"
      ]
     },
     "execution_count": 42,
     "metadata": {},
     "output_type": "execute_result"
    },
    {
     "data": {
      "text/plain": [
       "Text(0.5,1,'The visualization of the clustered data.')"
      ]
     },
     "execution_count": 42,
     "metadata": {},
     "output_type": "execute_result"
    },
    {
     "data": {
      "text/plain": [
       "Text(0.5,0,'Feature space for the 1st feature')"
      ]
     },
     "execution_count": 42,
     "metadata": {},
     "output_type": "execute_result"
    },
    {
     "data": {
      "text/plain": [
       "Text(0,0.5,'Feature space for the 2nd feature')"
      ]
     },
     "execution_count": 42,
     "metadata": {},
     "output_type": "execute_result"
    },
    {
     "data": {
      "text/plain": [
       "Text(0.5,0.98,'Silhouette analysis for KMeans clustering on sample data with n_clusters = 3')"
      ]
     },
     "execution_count": 42,
     "metadata": {},
     "output_type": "execute_result"
    },
    {
     "data": {
      "image/png": "[encoded data removed]",
      "text/plain": [
       "<Figure size 1296x504 with 2 Axes>"
      ]
     },
     "metadata": {},
     "output_type": "display_data"
    },
    {
     "data": {
      "text/plain": [
       "(-0.1, 1)"
      ]
     },
     "execution_count": 42,
     "metadata": {},
     "output_type": "execute_result"
    },
    {
     "data": {
      "text/plain": [
       "(0, 1861)"
      ]
     },
     "execution_count": 42,
     "metadata": {},
     "output_type": "execute_result"
    },
    {
     "name": "stdout",
     "output_type": "stream",
     "text": [
      "For n_clusters = 4 The average silhouette_score is : 0.2235064259740146\n"
     ]
    },
    {
     "data": {
      "text/plain": [
       "<matplotlib.collections.PolyCollection at 0x7fe8c9aca588>"
      ]
     },
     "execution_count": 42,
     "metadata": {},
     "output_type": "execute_result"
    },
    {
     "data": {
      "text/plain": [
       "Text(-0.05,268.5,'0')"
      ]
     },
     "execution_count": 42,
     "metadata": {},
     "output_type": "execute_result"
    },
    {
     "data": {
      "text/plain": [
       "<matplotlib.collections.PolyCollection at 0x7fe8c88370b8>"
      ]
     },
     "execution_count": 42,
     "metadata": {},
     "output_type": "execute_result"
    },
    {
     "data": {
      "text/plain": [
       "Text(-0.05,728,'1')"
      ]
     },
     "execution_count": 42,
     "metadata": {},
     "output_type": "execute_result"
    },
    {
     "data": {
      "text/plain": [
       "<matplotlib.collections.PolyCollection at 0x7fe8c8837898>"
      ]
     },
     "execution_count": 42,
     "metadata": {},
     "output_type": "execute_result"
    },
    {
     "data": {
      "text/plain": [
       "Text(-0.05,1207.5,'2')"
      ]
     },
     "execution_count": 42,
     "metadata": {},
     "output_type": "execute_result"
    },
    {
     "data": {
      "text/plain": [
       "<matplotlib.collections.PolyCollection at 0x7fe8c88379e8>"
      ]
     },
     "execution_count": 42,
     "metadata": {},
     "output_type": "execute_result"
    },
    {
     "data": {
      "text/plain": [
       "Text(-0.05,1673.5,'3')"
      ]
     },
     "execution_count": 42,
     "metadata": {},
     "output_type": "execute_result"
    },
    {
     "data": {
      "text/plain": [
       "Text(0.5,1,'The silhouette plot for the various clusters.')"
      ]
     },
     "execution_count": 42,
     "metadata": {},
     "output_type": "execute_result"
    },
    {
     "data": {
      "text/plain": [
       "Text(0.5,0,'The silhouette coefficient values')"
      ]
     },
     "execution_count": 42,
     "metadata": {},
     "output_type": "execute_result"
    },
    {
     "data": {
      "text/plain": [
       "Text(0,0.5,'Cluster label')"
      ]
     },
     "execution_count": 42,
     "metadata": {},
     "output_type": "execute_result"
    },
    {
     "data": {
      "text/plain": [
       "<matplotlib.lines.Line2D at 0x7fe8c87745c0>"
      ]
     },
     "execution_count": 42,
     "metadata": {},
     "output_type": "execute_result"
    },
    {
     "data": {
      "text/plain": [
       "[]"
      ]
     },
     "execution_count": 42,
     "metadata": {},
     "output_type": "execute_result"
    },
    {
     "data": {
      "text/plain": [
       "[<matplotlib.axis.XTick at 0x7fe8c8749278>,\n",
       " <matplotlib.axis.XTick at 0x7fe8c87497b8>,\n",
       " <matplotlib.axis.XTick at 0x7fe8c898e048>,\n",
       " <matplotlib.axis.XTick at 0x7fe8c8a12908>,\n",
       " <matplotlib.axis.XTick at 0x7fe8c8a12208>,\n",
       " <matplotlib.axis.XTick at 0x7fe8c89bf0b8>,\n",
       " <matplotlib.axis.XTick at 0x7fe8c89bf9e8>]"
      ]
     },
     "execution_count": 42,
     "metadata": {},
     "output_type": "execute_result"
    },
    {
     "data": {
      "text/plain": [
       "<matplotlib.collections.PathCollection at 0x7fe8c89bffd0>"
      ]
     },
     "execution_count": 42,
     "metadata": {},
     "output_type": "execute_result"
    },
    {
     "data": {
      "text/plain": [
       "<matplotlib.collections.PathCollection at 0x7fe908700a90>"
      ]
     },
     "execution_count": 42,
     "metadata": {},
     "output_type": "execute_result"
    },
    {
     "data": {
      "text/plain": [
       "<matplotlib.collections.PathCollection at 0x7fe908673ac8>"
      ]
     },
     "execution_count": 42,
     "metadata": {},
     "output_type": "execute_result"
    },
    {
     "data": {
      "text/plain": [
       "<matplotlib.collections.PathCollection at 0x7fe908673e80>"
      ]
     },
     "execution_count": 42,
     "metadata": {},
     "output_type": "execute_result"
    },
    {
     "data": {
      "text/plain": [
       "<matplotlib.collections.PathCollection at 0x7fe8ca63e2e8>"
      ]
     },
     "execution_count": 42,
     "metadata": {},
     "output_type": "execute_result"
    },
    {
     "data": {
      "text/plain": [
       "<matplotlib.collections.PathCollection at 0x7fe8c8a12cc0>"
      ]
     },
     "execution_count": 42,
     "metadata": {},
     "output_type": "execute_result"
    },
    {
     "data": {
      "text/plain": [
       "Text(0.5,1,'The visualization of the clustered data.')"
      ]
     },
     "execution_count": 42,
     "metadata": {},
     "output_type": "execute_result"
    },
    {
     "data": {
      "text/plain": [
       "Text(0.5,0,'Feature space for the 1st feature')"
      ]
     },
     "execution_count": 42,
     "metadata": {},
     "output_type": "execute_result"
    },
    {
     "data": {
      "text/plain": [
       "Text(0,0.5,'Feature space for the 2nd feature')"
      ]
     },
     "execution_count": 42,
     "metadata": {},
     "output_type": "execute_result"
    },
    {
     "data": {
      "text/plain": [
       "Text(0.5,0.98,'Silhouette analysis for KMeans clustering on sample data with n_clusters = 4')"
      ]
     },
     "execution_count": 42,
     "metadata": {},
     "output_type": "execute_result"
    },
    {
     "data": {
      "image/png": "[encoded data removed]",
      "text/plain": [
       "<Figure size 1296x504 with 2 Axes>"
      ]
     },
     "metadata": {},
     "output_type": "display_data"
    },
    {
     "data": {
      "text/plain": [
       "(-0.1, 1)"
      ]
     },
     "execution_count": 42,
     "metadata": {},
     "output_type": "execute_result"
    },
    {
     "data": {
      "text/plain": [
       "(0, 1871)"
      ]
     },
     "execution_count": 42,
     "metadata": {},
     "output_type": "execute_result"
    },
    {
     "name": "stdout",
     "output_type": "stream",
     "text": [
      "For n_clusters = 5 The average silhouette_score is : 0.19971482009322736\n"
     ]
    },
    {
     "data": {
      "text/plain": [
       "<matplotlib.collections.PolyCollection at 0x7fe8c9aca630>"
      ]
     },
     "execution_count": 42,
     "metadata": {},
     "output_type": "execute_result"
    },
    {
     "data": {
      "text/plain": [
       "Text(-0.05,214.5,'0')"
      ]
     },
     "execution_count": 42,
     "metadata": {},
     "output_type": "execute_result"
    },
    {
     "data": {
      "text/plain": [
       "<matplotlib.collections.PolyCollection at 0x7fe8c89eaa90>"
      ]
     },
     "execution_count": 42,
     "metadata": {},
     "output_type": "execute_result"
    },
    {
     "data": {
      "text/plain": [
       "Text(-0.05,530.5,'1')"
      ]
     },
     "execution_count": 42,
     "metadata": {},
     "output_type": "execute_result"
    },
    {
     "data": {
      "text/plain": [
       "<matplotlib.collections.PolyCollection at 0x7fe8c89ea668>"
      ]
     },
     "execution_count": 42,
     "metadata": {},
     "output_type": "execute_result"
    },
    {
     "data": {
      "text/plain": [
       "Text(-0.05,813,'2')"
      ]
     },
     "execution_count": 42,
     "metadata": {},
     "output_type": "execute_result"
    },
    {
     "data": {
      "text/plain": [
       "<matplotlib.collections.PolyCollection at 0x7fe8c898f860>"
      ]
     },
     "execution_count": 42,
     "metadata": {},
     "output_type": "execute_result"
    },
    {
     "data": {
      "text/plain": [
       "Text(-0.05,1152,'3')"
      ]
     },
     "execution_count": 42,
     "metadata": {},
     "output_type": "execute_result"
    },
    {
     "data": {
      "text/plain": [
       "<matplotlib.collections.PolyCollection at 0x7fe8c898fe48>"
      ]
     },
     "execution_count": 42,
     "metadata": {},
     "output_type": "execute_result"
    },
    {
     "data": {
      "text/plain": [
       "Text(-0.05,1590.5,'4')"
      ]
     },
     "execution_count": 42,
     "metadata": {},
     "output_type": "execute_result"
    },
    {
     "data": {
      "text/plain": [
       "Text(0.5,1,'The silhouette plot for the various clusters.')"
      ]
     },
     "execution_count": 42,
     "metadata": {},
     "output_type": "execute_result"
    },
    {
     "data": {
      "text/plain": [
       "Text(0.5,0,'The silhouette coefficient values')"
      ]
     },
     "execution_count": 42,
     "metadata": {},
     "output_type": "execute_result"
    },
    {
     "data": {
      "text/plain": [
       "Text(0,0.5,'Cluster label')"
      ]
     },
     "execution_count": 42,
     "metadata": {},
     "output_type": "execute_result"
    },
    {
     "data": {
      "text/plain": [
       "<matplotlib.lines.Line2D at 0x7fe8c8967ac8>"
      ]
     },
     "execution_count": 42,
     "metadata": {},
     "output_type": "execute_result"
    },
    {
     "data": {
      "text/plain": [
       "[]"
      ]
     },
     "execution_count": 42,
     "metadata": {},
     "output_type": "execute_result"
    },
    {
     "data": {
      "text/plain": [
       "[<matplotlib.axis.XTick at 0x7fe8c89d2be0>,\n",
       " <matplotlib.axis.XTick at 0x7fe8c89d22b0>,\n",
       " <matplotlib.axis.XTick at 0x7fe8c89298d0>,\n",
       " <matplotlib.axis.XTick at 0x7fe8c8929048>,\n",
       " <matplotlib.axis.XTick at 0x7fe8c88bd7b8>,\n",
       " <matplotlib.axis.XTick at 0x7fe8c88bd748>,\n",
       " <matplotlib.axis.XTick at 0x7fe8c88bdf60>]"
      ]
     },
     "execution_count": 42,
     "metadata": {},
     "output_type": "execute_result"
    },
    {
     "data": {
      "text/plain": [
       "<matplotlib.collections.PathCollection at 0x7fe8c88bde80>"
      ]
     },
     "execution_count": 42,
     "metadata": {},
     "output_type": "execute_result"
    },
    {
     "data": {
      "text/plain": [
       "<matplotlib.collections.PathCollection at 0x7fe8c8929630>"
      ]
     },
     "execution_count": 42,
     "metadata": {},
     "output_type": "execute_result"
    },
    {
     "data": {
      "text/plain": [
       "<matplotlib.collections.PathCollection at 0x7fe8c89e1f98>"
      ]
     },
     "execution_count": 42,
     "metadata": {},
     "output_type": "execute_result"
    },
    {
     "data": {
      "text/plain": [
       "<matplotlib.collections.PathCollection at 0x7fe8c89e1240>"
      ]
     },
     "execution_count": 42,
     "metadata": {},
     "output_type": "execute_result"
    },
    {
     "data": {
      "text/plain": [
       "<matplotlib.collections.PathCollection at 0x7fe8c8929d68>"
      ]
     },
     "execution_count": 42,
     "metadata": {},
     "output_type": "execute_result"
    },
    {
     "data": {
      "text/plain": [
       "<matplotlib.collections.PathCollection at 0x7fe8c88d02e8>"
      ]
     },
     "execution_count": 42,
     "metadata": {},
     "output_type": "execute_result"
    },
    {
     "data": {
      "text/plain": [
       "<matplotlib.collections.PathCollection at 0x7fe8c89e15f8>"
      ]
     },
     "execution_count": 42,
     "metadata": {},
     "output_type": "execute_result"
    },
    {
     "data": {
      "text/plain": [
       "Text(0.5,1,'The visualization of the clustered data.')"
      ]
     },
     "execution_count": 42,
     "metadata": {},
     "output_type": "execute_result"
    },
    {
     "data": {
      "text/plain": [
       "Text(0.5,0,'Feature space for the 1st feature')"
      ]
     },
     "execution_count": 42,
     "metadata": {},
     "output_type": "execute_result"
    },
    {
     "data": {
      "text/plain": [
       "Text(0,0.5,'Feature space for the 2nd feature')"
      ]
     },
     "execution_count": 42,
     "metadata": {},
     "output_type": "execute_result"
    },
    {
     "data": {
      "text/plain": [
       "Text(0.5,0.98,'Silhouette analysis for KMeans clustering on sample data with n_clusters = 5')"
      ]
     },
     "execution_count": 42,
     "metadata": {},
     "output_type": "execute_result"
    },
    {
     "data": {
      "image/png": "[encoded data removed]",
      "text/plain": [
       "<Figure size 1296x504 with 2 Axes>"
      ]
     },
     "metadata": {},
     "output_type": "display_data"
    }
   ],
   "source": [
    "# Some borrowed code from scikit-learn:\n",
    "range_n_clusters = [2, 3, 4, 5]\n",
    "for n_clusters in range_n_clusters:\n",
    "    # Create a subplot with 1 row and 2 columns\n",
    "    fig, (ax1, ax2) = plt.subplots(1, 2)\n",
    "    fig.set_size_inches(18, 7)\n",
    "\n",
    "    # The 1st subplot is the silhouette plot\n",
    "    # The silhouette coefficient can range from -1, 1 but in this example all\n",
    "    # lie within [-0.1, 1]\n",
    "    ax1.set_xlim([-0.1, 1])\n",
    "    # The (n_clusters+1)*10 is for inserting blank space between silhouette\n",
    "    # plots of individual clusters, to demarcate them clearly.\n",
    "    ax1.set_ylim([0, len(X) + (n_clusters + 1) * 10])\n",
    "\n",
    "    # Initialize the clusterer with n_clusters value and a random generator\n",
    "    # seed of 10 for reproducibility.\n",
    "    clusterer = KMeans(n_clusters=n_clusters, random_state=10)\n",
    "    cluster_labels = clusterer.fit_predict(X)\n",
    "\n",
    "    # The silhouette_score gives the average value for all the samples.\n",
    "    # This gives a perspective into the density and separation of the formed\n",
    "    # clusters\n",
    "    silhouette_avg = silhouette_score(X, cluster_labels)\n",
    "    print(\"For n_clusters =\", n_clusters,\n",
    "          \"The average silhouette_score is :\", silhouette_avg)\n",
    "\n",
    "    # Compute the silhouette scores for each sample\n",
    "    sample_silhouette_values = silhouette_samples(X, cluster_labels)\n",
    "\n",
    "    y_lower = 10\n",
    "    for i in range(n_clusters):\n",
    "        # Aggregate the silhouette scores for samples belonging to\n",
    "        # cluster i, and sort them\n",
    "        ith_cluster_silhouette_values = \\\n",
    "            sample_silhouette_values[cluster_labels == i]\n",
    "\n",
    "        ith_cluster_silhouette_values.sort()\n",
    "\n",
    "        size_cluster_i = ith_cluster_silhouette_values.shape[0]\n",
    "        y_upper = y_lower + size_cluster_i\n",
    "\n",
    "        color = plt.cm.Spectral(float(i) / n_clusters)\n",
    "        ax1.fill_betweenx(np.arange(y_lower, y_upper),\n",
    "                          0, ith_cluster_silhouette_values,\n",
    "                          facecolor=color, edgecolor=color, alpha=0.7)\n",
    "\n",
    "        # Label the silhouette plots with their cluster numbers at the middle\n",
    "        ax1.text(-0.05, y_lower + 0.5 * size_cluster_i, str(i))\n",
    "\n",
    "        # Compute the new y_lower for next plot\n",
    "        y_lower = y_upper + 10  # 10 for the 0 samples\n",
    "\n",
    "    ax1.set_title(\"The silhouette plot for the various clusters.\")\n",
    "    ax1.set_xlabel(\"The silhouette coefficient values\")\n",
    "    ax1.set_ylabel(\"Cluster label\")\n",
    "\n",
    "    # The vertical line for average silhouette score of all the values\n",
    "    ax1.axvline(x=silhouette_avg, color=\"red\", linestyle=\"--\")\n",
    "\n",
    "    ax1.set_yticks([])  # Clear the yaxis labels / ticks\n",
    "    ax1.set_xticks([-0.1, 0, 0.2, 0.4, 0.6, 0.8, 1])\n",
    "\n",
    "    # 2nd Plot showing the actual clusters formed\n",
    "    colors = plt.cm.Spectral(cluster_labels.astype(float) / n_clusters)\n",
    "    ax2.scatter(X[:, 0], X[:, 1], marker='.', s=30, lw=0, alpha=0.7,\n",
    "                c=colors, edgecolor='k')\n",
    "\n",
    "    # Labeling the clusters\n",
    "    centers = clusterer.cluster_centers_\n",
    "    # Draw white circles at cluster centers\n",
    "    ax2.scatter(centers[:, 0], centers[:, 1], marker='o',\n",
    "                c=\"white\", alpha=1, s=200, edgecolor='k')\n",
    "\n",
    "    for i, c in enumerate(centers):\n",
    "        ax2.scatter(c[0], c[1], marker='$%d$' % i, alpha=1,\n",
    "                    s=50, edgecolor='k')\n",
    "\n",
    "    ax2.set_title(\"The visualization of the clustered data.\")\n",
    "    ax2.set_xlabel(\"Feature space for the 1st feature\")\n",
    "    ax2.set_ylabel(\"Feature space for the 2nd feature\")\n",
    "\n",
    "    plt.suptitle((\"Silhouette analysis for KMeans clustering on sample data \"\n",
    "                  \"with n_clusters = %d\" % n_clusters),\n",
    "                 fontsize=14, fontweight='bold')\n",
    "\n",
    "    plt.show()"
   ]
  },
  {
   "cell_type": "markdown",
   "metadata": {},
   "source": [
    "Note that silhouette scores can be used to assess the results of any clustering, not just those from KMeans."
   ]
  },
  {
   "cell_type": "markdown",
   "metadata": {},
   "source": [
    "### Hierarchical Clustering"
   ]
  },
  {
   "cell_type": "markdown",
   "metadata": {},
   "source": [
    "Let's cluster the same data using an agglomerative hierarchical clustering method. "
   ]
  },
  {
   "cell_type": "code",
   "execution_count": 43,
   "metadata": {},
   "outputs": [],
   "source": [
    "from sklearn.cluster import AgglomerativeClustering as AgClust"
   ]
  },
  {
   "cell_type": "code",
   "execution_count": 67,
   "metadata": {},
   "outputs": [
    {
     "data": {
      "text/plain": [
       "(1811,)"
      ]
     },
     "execution_count": 67,
     "metadata": {},
     "output_type": "execute_result"
    }
   ],
   "source": [
    "hiClust3=AgClust(n_clusters=3)\n",
    "hiClust3Mod=hiClust3.fit(X)\n",
    "hi3Labs=hiClust3.fit_predict(X)\n",
    "hi3Labs.shape"
   ]
  },
  {
   "cell_type": "markdown",
   "metadata": {},
   "source": [
    "The linkage rule used here is \"Ward's.\" Others available are \"complete\" and \"average.\"  For documentation see [Agglomerative Clustering with scikit-learn](http://scikit-learn.org/stable/modules/generated/sklearn.cluster.AgglomerativeClustering.html)."
   ]
  },
  {
   "cell_type": "markdown",
   "metadata": {},
   "source": [
    "Let's take a look at a couple of metrics:"
   ]
  },
  {
   "cell_type": "code",
   "execution_count": 55,
   "metadata": {},
   "outputs": [
    {
     "name": "stdout",
     "output_type": "stream",
     "text": [
      " 686.045\n"
     ]
    }
   ],
   "source": [
    "print('{:8.3f}'.format(calinski_harabaz_score(X, hi3Labs)))"
   ]
  },
  {
   "cell_type": "code",
   "execution_count": 58,
   "metadata": {},
   "outputs": [
    {
     "name": "stdout",
     "output_type": "stream",
     "text": [
      " 0.169\n"
     ]
    }
   ],
   "source": [
    "KM3sil_score=silhouette_score(X, hi3Labs, metric='euclidean')\n",
    "print('{:6.3f}'.format(KM3sil_score))"
   ]
  },
  {
   "cell_type": "code",
   "execution_count": null,
   "metadata": {},
   "outputs": [],
   "source": [
    "We can take a look at the dendrogram for this:"
   ]
  },
  {
   "cell_type": "code",
   "execution_count": 60,
   "metadata": {},
   "outputs": [],
   "source": [
    "from scipy.cluster.hierarchy import dendrogram"
   ]
  },
  {
   "cell_type": "markdown",
   "metadata": {},
   "source": [
    "Here's where you can find the doc on [scipy dendrogram](https://docs.scipy.org/doc/scipy/reference/generated/scipy.cluster.hierarchy.dendrogram.html)."
   ]
  },
  {
   "cell_type": "code",
   "execution_count": 65,
   "metadata": {},
   "outputs": [],
   "source": [
    "# Scooped from on Gitub...\n",
    "# Authors: Mathew Kallada\n",
    "# License: BSD 3 clause\n",
    "\n",
    "#=========================================\n",
    "#Plot Hierarachical Clustering Dendrogram \n",
    "#=========================================\n",
    "#\n",
    "#This example plots the corresponding dendrogram of a hierarchical clustering\n",
    "#using AgglomerativeClustering and the dendrogram method available in scipy\n",
    "\n",
    "#import numpy as np\n",
    "\n",
    "#from matplotlib import pyplot as plt\n",
    "#from scipy.cluster.hierarchy import dendrogram\n",
    "#from sklearn.datasets import load_iris\n",
    "#from sklearn.cluster import AgglomerativeClustering\n",
    "\n",
    "def plot_dendrogram(model, **kwargs):\n",
    "\n",
    "    # Children of hierarchical clustering\n",
    "    children = model.children_\n",
    "\n",
    "    # Distances between each pair of children\n",
    "    # Since we don't have this information, we can use a uniform one for plotting\n",
    "    distance = np.arange(children.shape[0])\n",
    "\n",
    "    # The number of observations contained in each cluster level\n",
    "    no_of_observations = np.arange(2, children.shape[0]+2)\n",
    "\n",
    "    # Create linkage matrix and then plot the dendrogram\n",
    "    linkage_matrix = np.column_stack([children, distance, no_of_observations]).astype(float)\n",
    "\n",
    "    # Plot the corresponding dendrogram\n",
    "    dendrogram(linkage_matrix, **kwargs)\n",
    "\n",
    "\n",
    "#iris = load_iris()\n",
    "#x = iris.data[:20]\n",
    "#model = AgglomerativeClustering(n_clusters=3)\n",
    "\n",
    "#model = model.fit(x)\n",
    "#plt.title('Hierarchical Clustering Dendrogram')\n",
    "#plot_dendrogram(model, labels=model.labels_)\n",
    "#plt.show()\n"
   ]
  },
  {
   "cell_type": "code",
   "execution_count": 82,
   "metadata": {},
   "outputs": [
    {
     "data": {
      "text/plain": [
       "Text(0.5,1,'Hierarchical Clustering Dendrogram')"
      ]
     },
     "execution_count": 82,
     "metadata": {},
     "output_type": "execute_result"
    },
    {
     "data": {
      "image/png": "[encoded data removed]",
      "text/plain": [
       "<Figure size 720x504 with 1 Axes>"
      ]
     },
     "metadata": {},
     "output_type": "display_data"
    }
   ],
   "source": [
    "plt.rcParams['figure.figsize']=[10,7]\n",
    "plt.title('Hierarchical Clustering Dendrogram')\n",
    "plot_dendrogram(hiClust3Mod, labels=hi3Labs)\n",
    "plt.show()"
   ]
  },
  {
   "cell_type": "markdown",
   "metadata": {},
   "source": [
    "**EXERCISE**  This dendrogram is rather hard to look at. How would you make it easier to read?  Matplotlib \"adjustments,\" or maybe something with `dendrogram`?  try the following.  It can be challenging to construct a visually useful dendrogram when you have many observations. The `seaborn` and `plotly` packages may be a little easier to use for dendrograms."
   ]
  },
  {
   "cell_type": "code",
   "execution_count": 91,
   "metadata": {
    "scrolled": true
   },
   "outputs": [
    {
     "data": {
      "text/plain": [
       "Text(0.5,1,'Hierarchical Clustering Dendrogram')"
      ]
     },
     "execution_count": 91,
     "metadata": {},
     "output_type": "execute_result"
    },
    {
     "data": {
      "image/png": "[encoded data removed]",
      "text/plain": [
       "<Figure size 720x504 with 1 Axes>"
      ]
     },
     "metadata": {},
     "output_type": "display_data"
    }
   ],
   "source": [
    "# The truncate_mode kwarg indicates cutting off at a specific number of clusters\n",
    "plt.title('Hierarchical Clustering Dendrogram')\n",
    "plot_dendrogram(hiClust3Mod, labels=hi3Labs,truncate_mode='lastp',p=3)\n",
    "plt.show()"
   ]
  },
  {
   "cell_type": "markdown",
   "metadata": {},
   "source": [
    "### Distance and Similarity"
   ]
  },
  {
   "cell_type": "markdown",
   "metadata": {},
   "source": [
    "Up to this point we've been assuming when clustering that the distances between observations are Euclidean distances, like:\n",
    "\n",
    "\\begin{align*}\n",
    "\\large{\n",
    "D(x_i,x_j)=\\Bigg( \\sum_{l=1}^{d}{{|x_{il}-x_{jl}} |}^2 \\Bigg )^{1/2}\n",
    "}\n",
    "\\end{align*}\n",
    "\n",
    "where \"d\" is the number of dimensions.\n",
    "\n",
    "Other distance metrics are defined by what have been called \n",
    "\"Minkowki r metrics\". The Euclidean distance measure is a particular r metric.  r metrics are defined as:\n",
    "\n",
    "\\begin{align*}\n",
    "\\large{\n",
    "D(x_i,x_j)=\\Bigg( \\sum_{l=1}^{d}{{|x_{il}-x_{jl}} |}^r \\Bigg )^{1/r}\n",
    "}\n",
    "\\end{align*}\n",
    "\n",
    "where r is a positive integer.\n",
    "\n",
    "Particular r metrics include:\n",
    "\n",
    "* The \"city block\" metric, r=1\n",
    "* The \"chessboard\" metric, r=$\\infty$\n",
    "\n",
    "`scikit-learn` provides the commonly used r metrics, and also similarity measures like _cosine similarity_ and the _Jaccard coefficient_.   It also provides [other distance and similarity metrics](http://scikit-learn.org/stable/modules/metrics.html#metrics).\n",
    "\n",
    "_Gower's coefficient_ is a similarity measure that can be computed using data of varied measurement types, for example, when the data available for clustering observations includes both continuous and categorical measures."
   ]
  },
  {
   "cell_type": "markdown",
   "metadata": {},
   "source": [
    "### Tranforming X"
   ]
  },
  {
   "cell_type": "markdown",
   "metadata": {},
   "source": [
    "It can sometimes be useful to normalize or standardize data before clustering.  This is sometimes called \"sphering\" the data, and it may help some algorithms achieve stable solutions.  \n",
    "\n",
    "_Tandem clustering_ consists of clustering on principle components obtained from X data. The notion is that algorithms may more easily identify useful patterns if the variables clustered on are orthogonal.  While this might be the case, it has been pointed out that clustering on a subset of principle components may compress data points, obscuring important differences."
   ]
  },
  {
   "cell_type": "markdown",
   "metadata": {},
   "source": [
    "### But How DO Clusters Differ?"
   ]
  },
  {
   "cell_type": "markdown",
   "metadata": {},
   "source": [
    "It can be informative to describe how clusters differ on the variables used to identify.  In the case of clustering the patient satisfaction data, do clusters appear to consist of patients who are _qualitatively_ different in terms of the experiences they reported?  Or are the \"just\" quantitatively different, e.g. did some just always \"rate\" high, some \"medium,\" and some \"low?\"  If the latter is the case, what kind of response process might have produced it?  \n",
    "\n",
    "You can start looking into cluster differences by examining descriptive statistics.\n",
    "\n",
    "**EXERCISE** Use the kmeans cluster labels to group the data you used to get the three cluster kmeans solution.  Then, describe statistically each cluster.  You might find using the `pandas`methods .groupby() and .describe() useful in doing this."
   ]
  },
  {
   "cell_type": "markdown",
   "metadata": {},
   "source": [
    "## Semi-Supervised Learning (SSL)"
   ]
  },
  {
   "cell_type": "markdown",
   "metadata": {},
   "source": [
    "SSL methods are used when some of the data is labeled, and some isn't. The goal is to take advantage of the data that is labeled in algorithmically \"guessing\" the labels for the unlabeled data. SSL methods employ some version of the assumption that observations that are proximal in the space of the data are likely to share the same label.  \n",
    "\n",
    "For SSL methods provided in `scikit-learn`, see (http://scikit-learn.org/stable/modules/classes.html#module-sklearn.semi_supervised).  See [here](http://scikit-learn.org/stable/auto_examples/semi_supervised/plot_label_propagation_digits_active_learning.html) for an example of using a SSL method to learn labels for written digits.  Code is provided."
   ]
  }
 ],
 "metadata": {
  "hide_input": false,
  "kernelspec": {
   "display_name": "Python 3",
   "language": "python",
   "name": "python3"
  },
  "language_info": {
   "codemirror_mode": {
    "name": "ipython",
    "version": 3
   },
   "file_extension": ".py",
   "mimetype": "text/x-python",
   "name": "python",
   "nbconvert_exporter": "python",
   "pygments_lexer": "ipython3",
   "version": "3.6.5"
  },
  "latex_envs": {
   "LaTeX_envs_menu_present": true,
   "autoclose": false,
   "autocomplete": true,
   "bibliofile": "biblio.bib",
   "cite_by": "apalike",
   "current_citInitial": 1,
   "eqLabelWithNumbers": true,
   "eqNumInitial": 1,
   "hotkeys": {
    "equation": "Ctrl-E",
    "itemize": "Ctrl-I"
   },
   "labels_anchors": false,
   "latex_user_defs": false,
   "report_style_numbering": false,
   "user_envs_cfg": false
  }
 },
 "nbformat": 4,
 "nbformat_minor": 2
}
